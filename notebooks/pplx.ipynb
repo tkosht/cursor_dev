{
 "cells": [
  {
   "cell_type": "code",
   "execution_count": 3,
   "metadata": {},
   "outputs": [],
   "source": [
    "import os\n",
    "from openai import OpenAI\n",
    "from dotenv import load_dotenv\n",
    "\n",
    "load_dotenv()\n",
    "PPLX_API_KEY = os.getenv(\"PPLX_API_KEY\")"
   ]
  },
  {
   "cell_type": "code",
   "execution_count": 10,
   "metadata": {},
   "outputs": [],
   "source": [
    "import requests\n",
    "\n",
    "url = \"https://api.perplexity.ai/chat/completions\"\n",
    "\n",
    "payload = {\n",
    "    \"model\": \"llama-3.1-sonar-large-128k-online\",\n",
    "    \"messages\": [\n",
    "        {\n",
    "            \"role\": \"system\",\n",
    "            \"content\": \"You are an artificial intelligence assistant and you need to \"\n",
    "                \"engage in a helpful, detailed, polite conversation with a user.\"\n",
    "        },\n",
    "        {\n",
    "            \"role\": \"user\",\n",
    "            \"content\": \"ニトリのサイトの2024年のIR情報を教えてください。\",\n",
    "        }\n",
    "    ],\n",
    "    # \"max_tokens\": 1000,\n",
    "    \"temperature\": 0.2,\n",
    "    \"top_p\": 0.9,\n",
    "    \"search_domain_filter\": [\"nitori.co.jp\"],       # for closed beta user\n",
    "    \"return_images\": False,\n",
    "    \"return_related_questions\": False,\n",
    "    \"search_recency_filter\": \"year\",\n",
    "    \"top_k\": 0,\n",
    "    \"stream\": False,\n",
    "    \"presence_penalty\": 0,\n",
    "    \"frequency_penalty\": 1\n",
    "}\n",
    "headers = {\n",
    "    \"Authorization\": f\"Bearer {PPLX_API_KEY}\",\n",
    "    \"Content-Type\": \"application/json\"\n",
    "}\n"
   ]
  },
  {
   "cell_type": "code",
   "execution_count": 11,
   "metadata": {},
   "outputs": [
    {
     "name": "stdout",
     "output_type": "stream",
     "text": [
      "{\"id\": \"75d4b4fb-5193-4516-9d0e-07618b64cabc\", \"model\": \"llama-3.1-sonar-large-128k-online\", \"created\": 1734854283, \"usage\": {\"prompt_tokens\": 38, \"completion_tokens\": 532, \"total_tokens\": 570}, \"citations\": [\"https://netshop.impress.co.jp/node/12273\", \"https://diamond-rm.net/management/businessplan/487498/\", \"https://news.mynavi.jp/techplus/article/20241210-3087437/\", \"https://www.ryutsuu.biz/accounts/q110674.html\", \"https://minkabu.jp/stock/9843/settlement\"], \"object\": \"chat.completion\", \"choices\": [{\"index\": 0, \"finish_reason\": \"stop\", \"message\": {\"role\": \"assistant\", \"content\": \"\\u30cb\\u30c8\\u30ea\\u30db\\u30fc\\u30eb\\u30c7\\u30a3\\u30f3\\u30b0\\u30b9\\u306e2024\\u5e74\\u306eIR\\uff08\\u6295\\u8cc7\\u5bb6\\u95a2\\u4fc2\\uff09\\u60c5\\u5831\\u306f\\u4ee5\\u4e0b\\u306e\\u30dd\\u30a4\\u30f3\\u30c8\\u304b\\u3089\\u6982\\u8981\\u3092\\u628a\\u63e1\\u3059\\u308b\\u3053\\u3068\\u304c\\u3067\\u304d\\u307e\\u3059\\u3002\\n\\n## \\u8ca1\\u52d9\\u6210\\u7e3e\\n- 2024\\u5e743\\u6708\\u671f\\u306e\\u58f2\\u4e0a\\u9ad8\\u306f8957\\u5104\\u5186\\u3067\\u3001\\u524d\\u5e74\\u5ea6\\u6bd4\\u30675.5%\\u6e1b\\u5c11\\u3057\\u307e\\u3057\\u305f\\u3002\\u55b6\\u696d\\u5229\\u76ca\\u306f1277\\u5104\\u5186\\uff08\\u524d\\u5e74\\u5ea6\\u6bd48.8%\\u6e1b\\uff09\\u3001\\u7d4c\\u5e38\\u5229\\u76ca\\u306f1323\\u5104\\u5186\\uff08\\u524d\\u5e74\\u5ea6\\u6bd48.1%\\u6e1b\\uff09\\u3001\\u5f53\\u671f\\u7d14\\u5229\\u76ca\\u306f865\\u5104\\u5186\\uff08\\u524d\\u5e74\\u5ea6\\u6bd49.0%\\u6e1b\\uff09\\u3067\\u3057\\u305f[2][5].\\n\\n## \\u901a\\u8ca9\\u4e8b\\u696d\\n- \\u901a\\u8ca9\\u4e8b\\u696d\\u306e\\u58f2\\u4e0a\\u9ad8\\u306f885\\u51044400\\u4e07\\u5186\\u3067\\u3001\\u524d\\u671f\\u6bd4\\u30674.0%\\u6e1b\\u5c11\\u3057\\u307e\\u3057\\u305f\\u3002\\u56fd\\u5185\\u901a\\u8ca9\\u4e8b\\u696d\\u306e\\u58f2\\u4e0a\\u9ad8\\u306f871\\u5104\\u5186\\u3067\\u3001\\u540c4.3%\\u6e1b\\u5c11\\u3057\\u307e\\u3057\\u305f\\u3002\\u30e9\\u30a4\\u30d6\\u30b3\\u30de\\u30fc\\u30b9\\u306e\\u8996\\u8074\\u8005\\u6570\\u306f\\u7d2f\\u8a08633\\u4e07\\u4eba\\u3092\\u7a81\\u7834\\u3057\\u3001\\u90313\\u56de\\u306e\\u914d\\u4fe1\\u3092\\u5b9a\\u578b\\u5316\\u3057\\u3066\\u3044\\u307e\\u3059[1].\\n\\n## \\u682a\\u4fa1\\u3068\\u8a55\\u4fa1\\n- 2024\\u5e7411\\u6708\\u4e0a\\u65ec\\u306e\\u682a\\u5f0f\\u6642\\u4fa1\\u7dcf\\u984d\\u306f\\u7d042\\u5146100\\u5104\\u5186\\u3067\\u3001PER\\uff08\\u682a\\u4fa1\\u53ce\\u76ca\\u7387\\uff09\\u306f21.60\\u500d\\u3068\\u9ad8\\u3044\\u8a55\\u4fa1\\u3092\\u53d7\\u3051\\u3066\\u3044\\u307e\\u3059\\u3002PBR\\uff08\\u682a\\u4fa1\\u7d14\\u8cc7\\u7523\\u500d\\u7387\\uff09\\u306f2.12\\u500d\\u3067\\u3001ROE\\uff08\\u682a\\u4e3b\\u8cc7\\u672c\\u5229\\u76ca\\u7387\\uff09\\u306f10.09%\\u3067\\u3059[3].\\n\\n## \\u8ca1\\u52d9\\u4f53\\u8cea\\n- \\u81ea\\u5df1\\u8cc7\\u672c\\u6bd4\\u7387\\u306f76.6%\\u3068\\u5065\\u5168\\u306a\\u8ca1\\u52d9\\u4f53\\u8cea\\u3092\\u7dad\\u6301\\u3057\\u3066\\u3044\\u307e\\u3059[3].\\n\\n## \\u4e2d\\u9593\\u671f\\u6c7a\\u7b97\\n- 2025\\u5e743\\u6708\\u671f\\u7b2c2\\u56db\\u534a\\u671f\\uff08\\u4e2d\\u9593\\u671f\\uff09\\u306e\\u6c7a\\u7b97\\u3067\\u306f\\u3001\\u58f2\\u4e0a\\u9ad8\\u306f4457\\u51046800\\u4e07\\u5186\\uff08\\u524d\\u5e74\\u540c\\u671f\\u6bd46.9%\\u5897\\uff09\\u3001\\u55b6\\u696d\\u5229\\u76ca\\u306f579\\u51047400\\u4e07\\u5186\\uff085.1%\\u5897\\uff09\\u3067\\u3057\\u305f\\u3002\\u56fd\\u5185\\u3067\\u306f\\u65b0\\u5e97\\u8217\\u306e\\u51fa\\u5e97\\u3092\\u9032\\u3081\\u3066\\u304a\\u308a\\u3001\\u30c6\\u30ec\\u30d3CM\\u3084\\u671f\\u9593\\u9650\\u5b9a\\u5024\\u4e0b\\u3052\\u306a\\u3069\\u306e\\u65bd\\u7b56\\u3092\\u5b9f\\u65bd\\u3057\\u3066\\u3044\\u307e\\u3059[4].\\n\\n## \\u4eba\\u6750\\u63a1\\u7528\\n- 2024\\u5e74\\u5ea6\\u306e\\u65b0\\u5165\\u793e\\u54e1\\u6570\\u306f983\\u4eba\\u3067\\u3001\\u524d\\u5e74\\u6bd4\\u3067\\u5897\\u52a0\\u3057\\u3066\\u3044\\u307e\\u3059\\u3002\\u7279\\u306b\\u4eba\\u624b\\u4e0d\\u8db3\\u304c\\u7d9a\\u304f\\u4e2d\\u3067\\u3001\\u7a4d\\u6975\\u7684\\u306a\\u63a1\\u7528\\u304c\\u884c\\u308f\\u308c\\u3066\\u3044\\u307e\\u3059[3].\\n\\n\\u3053\\u308c\\u3089\\u306e\\u60c5\\u5831\\u306f\\u3001\\u30cb\\u30c8\\u30ea\\u30db\\u30fc\\u30eb\\u30c7\\u30a3\\u30f3\\u30b0\\u30b9\\u306e\\u516c\\u5f0fIR\\u30b5\\u30a4\\u30c8\\u3084\\u5404\\u5831\\u9053\\u6e90\\u304b\\u3089\\u78ba\\u8a8d\\u3059\\u308b\\u3053\\u3068\\u304c\\u3067\\u304d\\u307e\\u3059\\u3002\"}, \"delta\": {\"role\": \"assistant\", \"content\": \"\"}}]}\n"
     ]
    }
   ],
   "source": [
    "response = requests.request(\"POST\", url, json=payload, headers=headers)\n",
    "print(response.text)\n"
   ]
  },
  {
   "cell_type": "code",
   "execution_count": 13,
   "metadata": {},
   "outputs": [
    {
     "data": {
      "text/plain": [
       "'ニトリホールディングスの2024年のIR（投資家関係）情報は以下のポイントから概要を把握することができます。\\n\\n## 財務成績\\n- 2024年3月期の売上高は8957億円で、前年度比で5.5%減少しました。営業利益は1277億円（前年度比8.8%減）、経常利益は1323億円（前年度比8.1%減）、当期純利益は865億円（前年度比9.0%減）でした[2][5].\\n\\n## 通販事業\\n- 通販事業の売上高は885億4400万円で、前期比で4.0%減少しました。国内通販事業の売上高は871億円で、同4.3%減少しました。ライブコマースの視聴者数は累計633万人を突破し、週3回の配信を定型化しています[1].\\n\\n## 株価と評価\\n- 2024年11月上旬の株式時価総額は約2兆100億円で、PER（株価収益率）は21.60倍と高い評価を受けています。PBR（株価純資産倍率）は2.12倍で、ROE（株主資本利益率）は10.09%です[3].\\n\\n## 財務体質\\n- 自己資本比率は76.6%と健全な財務体質を維持しています[3].\\n\\n## 中間期決算\\n- 2025年3月期第2四半期（中間期）の決算では、売上高は4457億6800万円（前年同期比6.9%増）、営業利益は579億7400万円（5.1%増）でした。国内では新店舗の出店を進めており、テレビCMや期間限定値下げなどの施策を実施しています[4].\\n\\n## 人材採用\\n- 2024年度の新入社員数は983人で、前年比で増加しています。特に人手不足が続く中で、積極的な採用が行われています[3].\\n\\nこれらの情報は、ニトリホールディングスの公式IRサイトや各報道源から確認することができます。'"
      ]
     },
     "execution_count": 13,
     "metadata": {},
     "output_type": "execute_result"
    }
   ],
   "source": [
    "import json\n",
    "\n",
    "json.loads(response.text)[\"choices\"][0][\"message\"][\"content\"]\n"
   ]
  }
 ],
 "metadata": {
  "kernelspec": {
   "display_name": ".venv",
   "language": "python",
   "name": "python3"
  },
  "language_info": {
   "codemirror_mode": {
    "name": "ipython",
    "version": 3
   },
   "file_extension": ".py",
   "mimetype": "text/x-python",
   "name": "python",
   "nbconvert_exporter": "python",
   "pygments_lexer": "ipython3",
   "version": "3.10.12"
  }
 },
 "nbformat": 4,
 "nbformat_minor": 2
}

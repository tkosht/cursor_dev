{
 "cells": [
  {
   "cell_type": "code",
   "execution_count": 1,
   "metadata": {},
   "outputs": [
    {
     "data": {
      "text/plain": [
       "True"
      ]
     },
     "execution_count": 1,
     "metadata": {},
     "output_type": "execute_result"
    }
   ],
   "source": [
    "import os\n",
    "from dotenv import load_dotenv\n",
    "\n",
    "\n",
    "load_dotenv()  # .envファイルから環境変数を読み込み\n"
   ]
  },
  {
   "cell_type": "code",
   "execution_count": 2,
   "metadata": {},
   "outputs": [
    {
     "data": {
      "application/vnd.jupyter.widget-view+json": {
       "model_id": "2d7d2cb16cbe466ab020037064a1b5ec",
       "version_major": 2,
       "version_minor": 0
      },
      "text/plain": [
       "Output()"
      ]
     },
     "metadata": {},
     "output_type": "display_data"
    },
    {
     "data": {
      "text/html": [
       "<pre style=\"white-space:pre;overflow-x:auto;line-height:normal;font-family:Menlo,'DejaVu Sans Mono',consolas,'Courier New',monospace\"></pre>\n"
      ],
      "text/plain": []
     },
     "metadata": {},
     "output_type": "display_data"
    },
    {
     "name": "stdout",
     "output_type": "stream",
     "text": [
      "None\n"
     ]
    }
   ],
   "source": [
    "from agno.agent import Agent\n",
    "from agno.models.openai import OpenAIChat\n",
    "from agno.tools.googlesearch import GoogleSearchTools  # 正しいクラス名\n",
    "\n",
    "# シンプルなエージェントの作成\n",
    "agent = Agent(\n",
    "    model=OpenAIChat(id=\"gpt-4o\"),  # gpt-4o を使う\n",
    "    tools=[GoogleSearchTools()],  # GoogleSearchToolsを使用\n",
    "    markdown=True\n",
    ")\n",
    "\n",
    "# エージェントに質問を投げかける\n",
    "response = agent.print_response(\"今日の東京の天気は？\", stream=True)\n",
    "print(response)"
   ]
  },
  {
   "cell_type": "code",
   "execution_count": 3,
   "metadata": {},
   "outputs": [
    {
     "data": {
      "text/html": [
       "<pre style=\"white-space:pre;overflow-x:auto;line-height:normal;font-family:Menlo,'DejaVu Sans Mono',consolas,'Courier New',monospace\"><span style=\"color: #000080; text-decoration-color: #000080\">INFO    </span> Loading knowledge base                                                                                    \n",
       "</pre>\n"
      ],
      "text/plain": [
       "\u001b[34mINFO    \u001b[0m Loading knowledge base                                                                                    \n"
      ]
     },
     "metadata": {},
     "output_type": "display_data"
    },
    {
     "data": {
      "text/html": [
       "<pre style=\"white-space:pre;overflow-x:auto;line-height:normal;font-family:Menlo,'DejaVu Sans Mono',consolas,'Courier New',monospace\"><span style=\"color: #000080; text-decoration-color: #000080\">INFO    </span> Reading: <span style=\"color: #0000ff; text-decoration-color: #0000ff; text-decoration: underline\">https://www.fastretailing.com/jp/ir/library/pdf/tanshin202408_4q.pdf</span>                             \n",
       "</pre>\n"
      ],
      "text/plain": [
       "\u001b[34mINFO    \u001b[0m Reading: \u001b[4;94mhttps://www.fastretailing.com/jp/ir/library/pdf/tanshin202408_4q.pdf\u001b[0m                             \n"
      ]
     },
     "metadata": {},
     "output_type": "display_data"
    },
    {
     "data": {
      "text/html": [
       "<pre style=\"white-space:pre;overflow-x:auto;line-height:normal;font-family:Menlo,'DejaVu Sans Mono',consolas,'Courier New',monospace\"><span style=\"color: #000080; text-decoration-color: #000080\">INFO    </span> No documents to insert                                                                                    \n",
       "</pre>\n"
      ],
      "text/plain": [
       "\u001b[34mINFO    \u001b[0m No documents to insert                                                                                    \n"
      ]
     },
     "metadata": {},
     "output_type": "display_data"
    },
    {
     "data": {
      "text/html": [
       "<pre style=\"white-space:pre;overflow-x:auto;line-height:normal;font-family:Menlo,'DejaVu Sans Mono',consolas,'Courier New',monospace\"><span style=\"color: #000080; text-decoration-color: #000080\">INFO    </span> Added <span style=\"color: #008080; text-decoration-color: #008080; font-weight: bold\">0</span> documents to knowledge base                                                                       \n",
       "</pre>\n"
      ],
      "text/plain": [
       "\u001b[34mINFO    \u001b[0m Added \u001b[1;36m0\u001b[0m documents to knowledge base                                                                       \n"
      ]
     },
     "metadata": {},
     "output_type": "display_data"
    },
    {
     "data": {
      "application/vnd.jupyter.widget-view+json": {
       "model_id": "bf5533e4888e465884c8cf3e1d2f7d55",
       "version_major": 2,
       "version_minor": 0
      },
      "text/plain": [
       "Output()"
      ]
     },
     "metadata": {},
     "output_type": "display_data"
    },
    {
     "data": {
      "text/html": [
       "<pre style=\"white-space:pre;overflow-x:auto;line-height:normal;font-family:Menlo,'DejaVu Sans Mono',consolas,'Courier New',monospace\"></pre>\n"
      ],
      "text/plain": []
     },
     "metadata": {},
     "output_type": "display_data"
    },
    {
     "name": "stdout",
     "output_type": "stream",
     "text": [
      "None\n"
     ]
    }
   ],
   "source": [
    "# より複雑な例：知識ベースを持つエージェント\n",
    "from agno.embedder.openai import OpenAIEmbedder\n",
    "from agno.knowledge.pdf_url import PDFUrlKnowledgeBase\n",
    "from agno.vectordb.lancedb import LanceDb, SearchType\n",
    "\n",
    "# 知識ベース付きエージェントの作成\n",
    "agent_with_knowledge = Agent(\n",
    "    model=OpenAIChat(id=\"gpt-4o\"),  # gpt-4o を使う\n",
    "    description=\"財務諸表の分析エキスパートである経営者\",\n",
    "    instructions=[\n",
    "        \"知識ベースから財務諸表を検索します。\",\n",
    "        \"必要に応じてGoogle検索で補完します。\",\n",
    "        \"知識ベースの情報を優先して使用します。\"\n",
    "    ],\n",
    "    knowledge=PDFUrlKnowledgeBase(\n",
    "        urls=[\"https://www.fastretailing.com/jp/ir/library/pdf/tanshin202408_4q.pdf\"],  # あなたのPDFのURLに置き換えてください\n",
    "        vector_db=LanceDb(\n",
    "            uri=\"data/lancedb\",\n",
    "            table_name=\"finance\",\n",
    "            search_type=SearchType.hybrid,\n",
    "            embedder=OpenAIEmbedder(id=\"text-embedding-3-small\"),\n",
    "        ),\n",
    "    ),\n",
    "    tools=[GoogleSearchTools()],\n",
    "    show_tool_calls=True,\n",
    "    markdown=True\n",
    ")\n",
    "\n",
    "# 知識ベースのロード（初回のみ必要）\n",
    "if agent_with_knowledge.knowledge is not None:\n",
    "    agent_with_knowledge.knowledge.load()\n",
    "\n",
    "# エージェントへの質問例\n",
    "response = agent_with_knowledge.print_response(\"ファーストリテイリングの財務諸表を分析して\", stream=True)\n",
    "print(response)\n"
   ]
  }
 ],
 "metadata": {
  "kernelspec": {
   "display_name": ".venv",
   "language": "python",
   "name": "python3"
  },
  "language_info": {
   "codemirror_mode": {
    "name": "ipython",
    "version": 3
   },
   "file_extension": ".py",
   "mimetype": "text/x-python",
   "name": "python",
   "nbconvert_exporter": "python",
   "pygments_lexer": "ipython3",
   "version": "3.10.12"
  }
 },
 "nbformat": 4,
 "nbformat_minor": 2
}
